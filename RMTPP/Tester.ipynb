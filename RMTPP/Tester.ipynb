{
 "cells": [
  {
   "cell_type": "code",
   "execution_count": 1,
   "metadata": {},
   "outputs": [
    {
     "name": "stdout",
     "output_type": "stream",
     "text": [
      "whole data has been loaded\n"
     ]
    }
   ],
   "source": [
    "from network import Network\n",
    "from load_data import Data_Loader\n",
    "from config import setting\n",
    "import tensorflow as tf\n",
    "import numpy as np\n",
    "from datetime import datetime\n",
    "import os\n",
    "os.environ[\"CUDA_DEVICE_ORDER\"]=\"PCI_BUS_ID\"\n",
    "os.environ[\"CUDA_VISIBLE_DEVICES\"]=\"1\"\n",
    "\n",
    "\n",
    "'''\n",
    "This code is implemented from\n",
    "Recurrent Marked Temporal Point Processes: Embedding Event History to Vector\n",
    "by\n",
    "Nan Du\n",
    "Georgia Tech\n",
    "dunan@gatech.edu,\n",
    "\n",
    "Hanjun Dai\n",
    "Georgia Tech\n",
    "hanjundai@gatech.edu,\n",
    "\n",
    "Rakshit Trivedi\n",
    "Georgia Tech\n",
    "rstrivedi@gatech.edu,\n",
    "\n",
    "Utkarsh Upadhyay\n",
    "MPI-SWS\n",
    "utkarshu@mpi-sws.org,\n",
    "\n",
    "Manuel Gomez-Rodriguez\n",
    "MPI-SWS\n",
    "manuelgr@mpi-sws.org,\n",
    "\n",
    "Le Song\n",
    "Georgia Tech\n",
    "lsong@cc.gatech.edu\n",
    "\n",
    "paper: www.kdd.org/kdd2016/papers/files/rpp1081-duA.pdf\n",
    "'''\n",
    "gpu_options = tf.GPUOptions(allow_growth=True)\n",
    "config =  tf.ConfigProto(gpu_options=gpu_options)\n",
    "\n",
    "ds_name = 'tianchi'\n",
    "sess_length = '1.0'\n",
    "setting[\"data_path\"] = \"../../../data/user_session_dictionary_{0}_{1}.npy\".format(ds_name, sess_length)\n",
    "\n",
    "data_loader = Data_Loader(setting=setting)\n",
    "train_time, train_mark, train_mark_reshaped, X_mask_train, test_time, test_mark, test_mark_reshaped, X_mask_test = data_loader.load_data_set()\n",
    "\n",
    "setting[\"len_seq\"] = data_loader.T\n",
    "setting[\"y_size\"] = data_loader.max_C + 1\n"
   ]
  },
  {
   "cell_type": "code",
   "execution_count": 2,
   "metadata": {},
   "outputs": [
    {
     "name": "stderr",
     "output_type": "stream",
     "text": [
      "/usr/lib/python3.4/importlib/_bootstrap.py:321: FutureWarning: Conversion of the second argument of issubdtype from `float` to `np.floating` is deprecated. In future, it will be treated as `np.float64 == np.dtype(float).type`.\n",
      "  return f(*args, **kwds)\n"
     ]
    },
    {
     "name": "stdout",
     "output_type": "stream",
     "text": [
      "network successfully created!\n",
      "7\n",
      "training finnished!\n",
      "0:00:58.499444\n"
     ]
    },
    {
     "name": "stderr",
     "output_type": "stream",
     "text": [
      "/home/khodadadi/keras-codes/ChOracle/codes/RMTPP/network.py:159: RuntimeWarning: overflow encountered in exp\n",
      "  1 / w_m * np.exp(h_v + d * w + b)\n"
     ]
    },
    {
     "name": "stdout",
     "output_type": "stream",
     "text": [
      "test_loss = -0.420954 , test_mse = 1.2716199720668715,test_acc = 0.000028 \n",
      "mae: 0.4313184110145956\n",
      "test finished!\n"
     ]
    }
   ],
   "source": [
    "start = datetime.now()\n",
    "network = Network(setting=setting)\n",
    "\n",
    "# sess = tf.Session(config=config)\n",
    "sess = tf.Session()\n",
    "network.create_network()\n",
    "network.train_network(sess=sess, train_time = train_time, train_mark=train_mark,train_mark_reshaped=train_mark_reshaped, X_mask_train=X_mask_train)\n",
    "end = datetime.now()\n",
    "print(end-start)\n",
    "res_dict = network.test_network(sess=sess, test_time = test_time, test_mark=test_mark,test_mark_reshaped=test_mark_reshaped, X_mask_test=X_mask_test)\n",
    "\n",
    "np.save(\"Result/{0}_{1}\".format(ds_name, sess_length), res_dict)\n",
    "sess.close()"
   ]
  },
  {
   "cell_type": "code",
   "execution_count": null,
   "metadata": {},
   "outputs": [],
   "source": [
    "test_loss = 183615.862027 , test_mse = 3894.759493748313,test_acc = 0.890817 \n",
    "mae: 60.47443465611469\n",
    "test finished!\n",
    "test_loss = 0.171449 , test_mse = 95.98821829269399,test_acc = 0.003032 \n",
    "mae: 1.982164221117796\n",
    "test_loss = 3.738726 , test_mse = 1.4613268475613193,test_acc = 0.025069 \n",
    "mae: 0.4709774720252092\n",
    "test_loss = 2.036951 , test_mse = 1.599020328483926,test_acc = 0.023994 \n",
    "mae: 0.5835607707461303"
   ]
  },
  {
   "cell_type": "code",
   "execution_count": null,
   "metadata": {},
   "outputs": [],
   "source": [
    "import numpy as np\n",
    "file_name = \"Result/iptv_1.0.npy\"\n",
    "res = np.load(file_name).item()\n",
    "print(res)"
   ]
  },
  {
   "cell_type": "code",
   "execution_count": null,
   "metadata": {},
   "outputs": [],
   "source": [
    "for i in range(1):\n",
    "    print(i)"
   ]
  }
 ],
 "metadata": {
  "kernelspec": {
   "display_name": "Python 3",
   "language": "python",
   "name": "python3"
  },
  "language_info": {
   "codemirror_mode": {
    "name": "ipython",
    "version": 3
   },
   "file_extension": ".py",
   "mimetype": "text/x-python",
   "name": "python",
   "nbconvert_exporter": "python",
   "pygments_lexer": "ipython3",
   "version": "3.4.3"
  }
 },
 "nbformat": 4,
 "nbformat_minor": 2
}
